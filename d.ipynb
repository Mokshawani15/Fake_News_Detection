{
 "cells": [
  {
   "cell_type": "code",
   "execution_count": 15,
   "metadata": {},
   "outputs": [
    {
     "name": "stdout",
     "output_type": "stream",
     "text": [
      "C:/Users/Moksha's Lappy/Desktop/GFG/electronics-10-01348-v2.pdf\n"
     ]
    }
   ],
   "source": [
    "path=str(input(\"Enter the path : \"))\n",
    "a=\"\\\\\"\n",
    "b=\"/\"\n",
    "newpath=path.replace(a,b)\n",
    "print(newpath)    "
   ]
  },
  {
   "cell_type": "code",
   "execution_count": 16,
   "metadata": {},
   "outputs": [],
   "source": [
    "import PyPDF2\n",
    "\n",
    "def extract_text_from_pdf(pdf_path):\n",
    "    with open(pdf_path, \"rb\") as file:\n",
    "        reader = PyPDF2.PdfReader(file)\n",
    "        text = \"\"\n",
    "        for page in reader.pages:\n",
    "            text += page.extract_text()\n",
    "    return text\n",
    "\n",
    "text1=extract_text_from_pdf(newpath)"
   ]
  },
  {
   "cell_type": "code",
   "execution_count": 2,
   "metadata": {},
   "outputs": [
    {
     "name": "stdout",
     "output_type": "stream",
     "text": [
      "Extracted Entities: {'PERSON': [], 'ORG': [], 'GPE': []}\n",
      "\n",
      "Top 5 Similar Articles:\n",
      "Title: A new outlet covers climate policy in the language Brazil knows best: Soccer.\n",
      "URL: https://www.niemanlab.org/2025/02/a-new-outlet-covers-climate-policy-in-the-language-brazil-knows-best-soccer/\n",
      "--------------------------------------------------\n",
      "Title: Ranked! The Top 100 women's footballers of all-time\n",
      "URL: https://www.fourfourtwo.com/news/ranked-top-100-womens-footballers-of-all-time\n",
      "--------------------------------------------------\n",
      "Title: Everything you need to know about sports tourism\n",
      "URL: https://www.nationalgeographic.com/travel/article/why-sports-tourism-is-on-the-rise\n",
      "--------------------------------------------------\n",
      "Title: A 2025 Sports Calendar for Journalists\n",
      "URL: https://mediablog.prnewswire.com/2025/01/09/2025-sports-calendar/\n",
      "--------------------------------------------------\n",
      "Similarity with first similar article: 0.06\n",
      "Confidence Score: 31.12%\n"
     ]
    },
    {
     "ename": "",
     "evalue": "",
     "output_type": "error",
     "traceback": [
      "\u001b[1;31mThe Kernel crashed while executing code in the current cell or a previous cell. \n",
      "\u001b[1;31mPlease review the code in the cell(s) to identify a possible cause of the failure. \n",
      "\u001b[1;31mClick <a href='https://aka.ms/vscodeJupyterKernelCrash'>here</a> for more info. \n",
      "\u001b[1;31mView Jupyter <a href='command:jupyter.viewOutput'>log</a> for further details."
     ]
    }
   ],
   "source": [
    "import spacy\n",
    "import requests\n",
    "from sklearn.feature_extraction.text import TfidfVectorizer\n",
    "from sklearn.metrics.pairwise import cosine_similarity\n",
    "\n",
    "# Load spaCy model for entity extraction\n",
    "nlp = spacy.load(\"en_core_web_sm\")\n",
    "\n",
    "# News API configuration\n",
    "API_KEY = \"62f819f2173c4068b3d9a4644b487d0c\"  # Replace with your News API key\n",
    "\n",
    "def get_user_article():\n",
    "    \"\"\"\n",
    "    Prompts the user to input the title and content of the article.\n",
    "    \"\"\"\n",
    "    title = input(\"Enter the article title: \")\n",
    "    content = input(\"Enter the article content: \")\n",
    "    return title, content\n",
    "\n",
    "def extract_entities(text):\n",
    "    \"\"\"\n",
    "    Extracts named entities like PERSON, ORG, and GPE (Geo-political entities) from the article.\n",
    "    \"\"\"\n",
    "    doc = nlp(text)\n",
    "    entities = {\n",
    "        \"PERSON\": [],\n",
    "        \"ORG\": [],\n",
    "        \"GPE\": []\n",
    "    }\n",
    "    for ent in doc.ents:\n",
    "        if ent.label_ in entities:\n",
    "            entities[ent.label_].append(ent.text)\n",
    "    return entities\n",
    "\n",
    "def compute_similarity(text1, text2):\n",
    "    \"\"\"\n",
    "    Computes the cosine similarity between two articles using TF-IDF.\n",
    "    \"\"\"\n",
    "    vectorizer = TfidfVectorizer()\n",
    "    tfidf_matrix = vectorizer.fit_transform([text1, text2])\n",
    "    similarity_score = cosine_similarity(tfidf_matrix[0], tfidf_matrix[1])[0][0]\n",
    "    return similarity_score\n",
    "\n",
    "def compute_confidence_score(similarity, source_reliability):\n",
    "    \"\"\"\n",
    "    Computes a confidence score based on similarity and source reliability.\n",
    "    \"\"\"\n",
    "    return (0.7 * similarity) + (0.3 * source_reliability)\n",
    "\n",
    "def fetch_similar_articles(query):\n",
    "    \"\"\"\n",
    "    Fetches news articles related to a given query from News API.\n",
    "    \"\"\"\n",
    "    search_url = f\"https://newsapi.org/v2/everything?q={query}&apiKey={API_KEY}\"\n",
    "    response = requests.get(search_url)\n",
    "    if response.status_code == 200:\n",
    "        return response.json()[\"articles\"][:5]  # Return top 5\n",
    "    return []\n",
    "\n",
    "# Main program\n",
    "title, content = get_user_article()\n",
    "\n",
    "# Step 2: Extract entities from the user's article\n",
    "entities = extract_entities(content)\n",
    "print(\"Extracted Entities:\", entities)\n",
    "\n",
    "# Step 3: Compare similarity with trusted sources (fetch similar articles)\n",
    "similar_articles = fetch_similar_articles(title)\n",
    "\n",
    "# Print top 5 similar articles\n",
    "print(\"\\nTop 5 Similar Articles:\")\n",
    "for article in similar_articles:\n",
    "    print(f\"Title: {article['title']}\")\n",
    "    print(f\"URL: {article['url']}\")\n",
    "    print(\"-\" * 50)\n",
    "\n",
    "# Compute the similarity with one of the similar articles (e.g., the first one)\n",
    "if similar_articles:\n",
    "    similar_article_content = similar_articles[0][\"content\"]  # Fetch content of the first similar article\n",
    "    similarity_score = compute_similarity(content, similar_article_content)\n",
    "    print(f\"Similarity with first similar article: {similarity_score:.2f}\")\n",
    "\n",
    "    # Step 4: Compute the confidence score\n",
    "    source_reliability = 0.9  # Assuming high reliability for the trusted source\n",
    "    confidence_score = compute_confidence_score(similarity_score, source_reliability)\n",
    "    print(f\"Confidence Score: {confidence_score * 100:.2f}%\")\n"
   ]
  }
 ],
 "metadata": {
  "kernelspec": {
   "display_name": "Python 3",
   "language": "python",
   "name": "python3"
  },
  "language_info": {
   "codemirror_mode": {
    "name": "ipython",
    "version": 3
   },
   "file_extension": ".py",
   "mimetype": "text/x-python",
   "name": "python",
   "nbconvert_exporter": "python",
   "pygments_lexer": "ipython3",
   "version": "3.12.5"
  }
 },
 "nbformat": 4,
 "nbformat_minor": 2
}
